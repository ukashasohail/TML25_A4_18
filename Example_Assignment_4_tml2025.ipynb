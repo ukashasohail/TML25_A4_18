{
  "cells": [
    {
      "cell_type": "code",
      "execution_count": null,
      "metadata": {
        "id": "GtCpq7VRnKe3"
      },
      "outputs": [],
      "source": [
        "import pickle\n",
        "import requests\n",
        "\n",
        "#List containing names of the images to create the dictionary\n",
        "key_names = ['West_Highland_white_terrier', 'American_coot', 'racer', 'flamingo', 'kite', 'goldfish', 'tiger_shark', 'vulture', 'common_iguana', 'orange']\n",
        "\n",
        "#Parameters\n",
        "params = {\n",
        "    \"labels\": (1,),\n",
        "    \"hide_color\": None,\n",
        "    \"top_labels\": 5,\n",
        "    \"num_features\": 100000,\n",
        "    \"num_samples\": 1000,\n",
        "    \"batch_size\": 10,\n",
        "    \"segmentation_fn\": None,\n",
        "    \"distance_metric\": \"cosine\",\n",
        "    \"model_regressor\": None,\n",
        "    \"random_seed\": None\n",
        "}\n",
        "\n",
        "#Here the dummy code assigns same parameters to each key/image but you need to put your own parameters for each image\n",
        "all_params = {}\n",
        "for i in key_names:\n",
        "    all_params[i] = params\n",
        "\n",
        "#Saving the pickle file\n",
        "with open(\"/content/explain_params.pkl\", \"wb\") as f:\n",
        "    pickle.dump(all_params, f)\n"
      ]
    },
    {
      "cell_type": "code",
      "execution_count": null,
      "metadata": {
        "id": "0jbDFOKupHUf"
      },
      "outputs": [],
      "source": [
        "#Submission, remember to add your token number!\n",
        "response = requests.post(\"http://34.122.51.94:9091/lime\", files={\"file\": open(\"/content/explain_params.pkl\", \"rb\")}, headers={\"token\": \"\"})\n",
        "print(response.json())"
      ]
    },
    {
      "cell_type": "markdown",
      "metadata": {
        "id": "gCRwiWa7Vetw"
      },
      "source": [
        "To check, this is how your pickle file content should look like:"
      ]
    },
    {
      "cell_type": "code",
      "execution_count": 7,
      "metadata": {
        "colab": {
          "base_uri": "https://localhost:8080/"
        },
        "id": "McfA0sOsV7ed",
        "outputId": "22ce0a3a-0e90-4ced-861a-68735a33adff"
      },
      "outputs": [
        {
          "name": "stdout",
          "output_type": "stream",
          "text": [
            "{'West_Highland_white_terrier': {'labels': (1,), 'hide_color': None, 'top_labels': 5, 'num_features': 100000, 'num_samples': 1000, 'batch_size': 10, 'segmentation_fn': None, 'distance_metric': 'cosine', 'model_regressor': None, 'random_seed': None}, 'American_coot': {'labels': (1,), 'hide_color': None, 'top_labels': 5, 'num_features': 100000, 'num_samples': 1000, 'batch_size': 10, 'segmentation_fn': None, 'distance_metric': 'cosine', 'model_regressor': None, 'random_seed': None}, 'racer': {'labels': (1,), 'hide_color': None, 'top_labels': 5, 'num_features': 100000, 'num_samples': 1000, 'batch_size': 10, 'segmentation_fn': None, 'distance_metric': 'cosine', 'model_regressor': None, 'random_seed': None}, 'flamingo': {'labels': (1,), 'hide_color': None, 'top_labels': 5, 'num_features': 100000, 'num_samples': 1000, 'batch_size': 10, 'segmentation_fn': None, 'distance_metric': 'cosine', 'model_regressor': None, 'random_seed': None}, 'kite': {'labels': (1,), 'hide_color': None, 'top_labels': 5, 'num_features': 100000, 'num_samples': 1000, 'batch_size': 10, 'segmentation_fn': None, 'distance_metric': 'cosine', 'model_regressor': None, 'random_seed': None}, 'goldfish': {'labels': (1,), 'hide_color': None, 'top_labels': 5, 'num_features': 100000, 'num_samples': 1000, 'batch_size': 10, 'segmentation_fn': None, 'distance_metric': 'cosine', 'model_regressor': None, 'random_seed': None}, 'tiger_shark': {'labels': (1,), 'hide_color': None, 'top_labels': 5, 'num_features': 100000, 'num_samples': 1000, 'batch_size': 10, 'segmentation_fn': None, 'distance_metric': 'cosine', 'model_regressor': None, 'random_seed': None}, 'vulture': {'labels': (1,), 'hide_color': None, 'top_labels': 5, 'num_features': 100000, 'num_samples': 1000, 'batch_size': 10, 'segmentation_fn': None, 'distance_metric': 'cosine', 'model_regressor': None, 'random_seed': None}, 'common_iguana': {'labels': (1,), 'hide_color': None, 'top_labels': 5, 'num_features': 100000, 'num_samples': 1000, 'batch_size': 10, 'segmentation_fn': None, 'distance_metric': 'cosine', 'model_regressor': None, 'random_seed': None}, 'orange': {'labels': (1,), 'hide_color': None, 'top_labels': 5, 'num_features': 100000, 'num_samples': 1000, 'batch_size': 10, 'segmentation_fn': None, 'distance_metric': 'cosine', 'model_regressor': None, 'random_seed': None}}\n"
          ]
        }
      ],
      "source": [
        "with open(\"/content/explain_params.pkl\", \"rb\") as f:\n",
        "    loaded_all_params = pickle.load(f)\n",
        "\n",
        "print(loaded_all_params)"
      ]
    },
    {
      "cell_type": "code",
      "execution_count": 5,
      "metadata": {},
      "outputs": [],
      "source": [
        "import pickle\n",
        "import requests\n",
        "\n",
        "key_names = [\n",
        "    'West_Highland_white_terrier', 'American_coot', 'racer', 'flamingo',\n",
        "    'kite', 'goldfish', 'tiger_shark', 'vulture', 'common_iguana', 'orange'\n",
        "]\n",
        "\n",
        "all_params = {\n",
        "    'orange': {\n",
        "        'labels': (1,),\n",
        "        'hide_color': 0,\n",
        "        'top_labels': 5,\n",
        "        'num_features': 100000,\n",
        "        'num_samples': 800,\n",
        "        'batch_size': 10,\n",
        "        'segmentation_fn': None,\n",
        "        'distance_metric': 'cosine',\n",
        "        'model_regressor': None,\n",
        "        'random_seed': None\n",
        "    },\n",
        "    'tiger_shark': {\n",
        "        'labels': (1,),\n",
        "        'hide_color': 0,\n",
        "        'top_labels': 2,\n",
        "        'num_features': 100000,\n",
        "        'num_samples': 400,\n",
        "        'batch_size': 10,\n",
        "        'segmentation_fn': None,\n",
        "        'distance_metric': 'cosine',\n",
        "        'model_regressor': None,\n",
        "        'random_seed': None\n",
        "    },\n",
        "    'kite': {\n",
        "        'labels': (1,),\n",
        "        'hide_color': 0,\n",
        "        'top_labels': 5,\n",
        "        'num_features': 100000,\n",
        "        'num_samples': 800,\n",
        "        'batch_size': 10,\n",
        "        'segmentation_fn': None,\n",
        "        'distance_metric': 'cosine',\n",
        "        'model_regressor': None,\n",
        "        'random_seed': None\n",
        "    },\n",
        "    'vulture': {\n",
        "        'labels': (1,),\n",
        "        'hide_color': 0,\n",
        "        'top_labels': 2,\n",
        "        'num_features': 50000,\n",
        "        'num_samples': 500,\n",
        "        'batch_size': 10,\n",
        "        'segmentation_fn': None,\n",
        "        'distance_metric': 'cosine',\n",
        "        'model_regressor': None,\n",
        "        'random_seed': None\n",
        "    },\n",
        "    'common_iguana': {\n",
        "        'labels': (1,),\n",
        "        'hide_color': 0,\n",
        "        'top_labels': 2,\n",
        "        'num_features': 100000,\n",
        "        'num_samples': 700,\n",
        "        'batch_size': 64,\n",
        "        'segmentation_fn': None,\n",
        "        'distance_metric': 'cosine',\n",
        "        'model_regressor': None,\n",
        "        'random_seed': None\n",
        "    },\n",
        "    'flamingo': {\n",
        "        'labels': (1,),\n",
        "        'hide_color': 0,\n",
        "        'top_labels': 5,\n",
        "        'num_features': 100000,\n",
        "        'num_samples': 750,\n",
        "        'batch_size': 64,\n",
        "        'segmentation_fn': None,\n",
        "        'distance_metric': 'cosine',\n",
        "        'model_regressor': None,\n",
        "        'random_seed': None\n",
        "    },\n",
        "    'American_coot': {\n",
        "        'labels': (1,),\n",
        "        'hide_color': 0,\n",
        "        'top_labels': 5,\n",
        "        'num_features': 100000,\n",
        "        'num_samples': 1200,\n",
        "        'batch_size': 10,\n",
        "        'segmentation_fn': None,\n",
        "        'distance_metric': 'cosine',\n",
        "        'model_regressor': None,\n",
        "        'random_seed': None\n",
        "    },\n",
        "    'West_Highland_white_terrier': {\n",
        "        'labels': (1,),\n",
        "        'hide_color': 0,\n",
        "        'top_labels': 1,\n",
        "        'num_features': 100,\n",
        "        'num_samples': 800,\n",
        "        'batch_size': 10,\n",
        "        'segmentation_fn': None,\n",
        "        'distance_metric': 'cosine',\n",
        "        'model_regressor': None,\n",
        "        'random_seed': None\n",
        "    },\n",
        "    'racer': {\n",
        "        'labels': (1,),\n",
        "        'hide_color': 0,\n",
        "        'top_labels': 1,\n",
        "        'num_features': 100000,\n",
        "        'num_samples': 500,\n",
        "        'batch_size': 10,\n",
        "        'segmentation_fn': None,\n",
        "        'distance_metric': 'cosine',\n",
        "        'model_regressor': None,\n",
        "        'random_seed': None\n",
        "    },\n",
        "    'goldfish': {\n",
        "        'labels': (1,),\n",
        "        'hide_color': 0,\n",
        "        'top_labels': 1,\n",
        "        'num_features': 100000,\n",
        "        'num_samples': 200,\n",
        "        'batch_size': 10,\n",
        "        'segmentation_fn': None,\n",
        "        'distance_metric': 'cosine',\n",
        "        'model_regressor': None,\n",
        "        'random_seed': None\n",
        "    }\n",
        "}\n",
        "\n",
        "\n",
        "# Save to pickle file\n",
        "with open(\"explain_params.pkl\", \"wb\") as f:\n",
        "    pickle.dump(all_params, f)\n",
        "\n",
        "# (Optional) Submit to server – fill in your token before using!\n",
        "# response = requests.post(\n",
        "#     \"http://34.122.51.94:9091/lime\",\n",
        "#     files={\"file\": open(\"explain_params.pkl\", \"rb\")},\n",
        "#     headers={\"token\": \"YOUR_TOKEN_HERE\"}\n",
        "# )\n",
        "# print(response.json())\n"
      ]
    },
    {
      "cell_type": "code",
      "execution_count": 6,
      "metadata": {},
      "outputs": [
        {
          "name": "stdout",
          "output_type": "stream",
          "text": [
            "{'orange': {'labels': (1,), 'hide_color': 0, 'top_labels': 5, 'num_features': 100000, 'num_samples': 800, 'batch_size': 10, 'segmentation_fn': None, 'distance_metric': 'cosine', 'model_regressor': None, 'random_seed': None}, 'tiger_shark': {'labels': (1,), 'hide_color': 0, 'top_labels': 2, 'num_features': 100000, 'num_samples': 400, 'batch_size': 10, 'segmentation_fn': None, 'distance_metric': 'cosine', 'model_regressor': None, 'random_seed': None}, 'kite': {'labels': (1,), 'hide_color': 0, 'top_labels': 5, 'num_features': 100000, 'num_samples': 800, 'batch_size': 10, 'segmentation_fn': None, 'distance_metric': 'cosine', 'model_regressor': None, 'random_seed': None}, 'vulture': {'labels': (1,), 'hide_color': 0, 'top_labels': 2, 'num_features': 50000, 'num_samples': 500, 'batch_size': 10, 'segmentation_fn': None, 'distance_metric': 'cosine', 'model_regressor': None, 'random_seed': None}, 'common_iguana': {'labels': (1,), 'hide_color': 0, 'top_labels': 2, 'num_features': 100000, 'num_samples': 700, 'batch_size': 64, 'segmentation_fn': None, 'distance_metric': 'cosine', 'model_regressor': None, 'random_seed': None}, 'flamingo': {'labels': (1,), 'hide_color': 0, 'top_labels': 5, 'num_features': 100000, 'num_samples': 750, 'batch_size': 64, 'segmentation_fn': None, 'distance_metric': 'cosine', 'model_regressor': None, 'random_seed': None}, 'American_coot': {'labels': (1,), 'hide_color': 0, 'top_labels': 5, 'num_features': 100000, 'num_samples': 1200, 'batch_size': 10, 'segmentation_fn': None, 'distance_metric': 'cosine', 'model_regressor': None, 'random_seed': None}, 'West_Highland_white_terrier': {'labels': (1,), 'hide_color': 0, 'top_labels': 1, 'num_features': 100, 'num_samples': 800, 'batch_size': 10, 'segmentation_fn': None, 'distance_metric': 'cosine', 'model_regressor': None, 'random_seed': None}, 'racer': {'labels': (1,), 'hide_color': 0, 'top_labels': 1, 'num_features': 100000, 'num_samples': 500, 'batch_size': 10, 'segmentation_fn': None, 'distance_metric': 'cosine', 'model_regressor': None, 'random_seed': None}, 'goldfish': {'labels': (1,), 'hide_color': 0, 'top_labels': 1, 'num_features': 100000, 'num_samples': 200, 'batch_size': 10, 'segmentation_fn': None, 'distance_metric': 'cosine', 'model_regressor': None, 'random_seed': None}}\n"
          ]
        }
      ],
      "source": [
        "\n",
        "with open(\"explain_params.pkl\", \"rb\") as f:\n",
        "    loaded_all_params = pickle.load(f)\n",
        "\n",
        "print(loaded_all_params)"
      ]
    },
    {
      "cell_type": "code",
      "execution_count": 7,
      "metadata": {},
      "outputs": [
        {
          "name": "stdout",
          "output_type": "stream",
          "text": [
            "{'avg_iou': 0.3079393696614042, 'avg_time': 3.1297049522399902}\n"
          ]
        }
      ],
      "source": [
        "#Submission, remember to add your token number!\n",
        "response = requests.post(\"http://34.122.51.94:9091/lime\", files={\"file\": open(\"explain_params.pkl\", \"rb\")}, headers={\"token\": \"17506180\"})\n",
        "print(response.json())"
      ]
    }
  ],
  "metadata": {
    "colab": {
      "provenance": []
    },
    "kernelspec": {
      "display_name": "NNTI venv",
      "language": "python",
      "name": "venv"
    },
    "language_info": {
      "codemirror_mode": {
        "name": "ipython",
        "version": 3
      },
      "file_extension": ".py",
      "mimetype": "text/x-python",
      "name": "python",
      "nbconvert_exporter": "python",
      "pygments_lexer": "ipython3",
      "version": "3.13.5"
    }
  },
  "nbformat": 4,
  "nbformat_minor": 0
}
